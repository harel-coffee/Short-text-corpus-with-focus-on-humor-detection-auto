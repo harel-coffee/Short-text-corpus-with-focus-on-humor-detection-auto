{
 "cells": [
  {
   "cell_type": "code",
   "execution_count": 4,
   "metadata": {
    "collapsed": false
   },
   "outputs": [
    {
     "name": "stdout",
     "output_type": "stream",
     "text": [
      "Authentication sent\n"
     ]
    }
   ],
   "source": [
    "import twitter # Tell Python to use the twitter package\n",
    "CONSUMER_KEY = ''\n",
    "CONSUMER_SECRET = ''\n",
    "OAUTH_TOKEN = '' #to get the oauth credential you need to click on the 'Create my access token' button and wait few moments\n",
    "OAUTH_TOKEN_SECRET = ''\n",
    "auth = twitter.oauth.OAuth(OAUTH_TOKEN, OAUTH_TOKEN_SECRET,CONSUMER_KEY, CONSUMER_SECRET)\n",
    "twitter_api = twitter.Twitter(auth=auth)\n",
    "print \"Authentication sent\""
   ]
  },
  {
   "cell_type": "code",
   "execution_count": 6,
   "metadata": {
    "collapsed": false,
    "scrolled": false
   },
   "outputs": [
    {
     "name": "stdout",
     "output_type": "stream",
     "text": [
      "Scraped the 157 latest tweets with an ID lower than 704034850374819843\n",
      "Scraped the 163 latest tweets with an ID lower than 702451181663211520\n",
      "Scraped the 166 latest tweets with an ID lower than 700901703244247041\n",
      "Scraped the 161 latest tweets with an ID lower than 699614443815223296\n",
      "Scraped the 164 latest tweets with an ID lower than 697718087383195648\n",
      "Scraped the 170 latest tweets with an ID lower than 695767966563098625\n",
      "Scraped the 165 latest tweets with an ID lower than 694288232725483521\n",
      "Scraped the 182 latest tweets with an ID lower than 692683821326680064\n",
      "Scraped the 162 latest tweets with an ID lower than 691574129913401344\n",
      "Scraped the 149 latest tweets with an ID lower than 690142840765161473\n",
      "Scraped the 145 latest tweets with an ID lower than 689082493908201472\n",
      "Scraped the 185 latest tweets with an ID lower than 687334901985705984\n",
      "Scraped the 190 latest tweets with an ID lower than 685538057924292608\n",
      "Scraped the 151 latest tweets with an ID lower than 684331426276335616\n",
      "Scraped the 172 latest tweets with an ID lower than 682371028279017473\n",
      "Scraped the 190 latest tweets with an ID lower than 680240659647827969\n",
      "The length of the complete status list is 2672.\n",
      "The oldest tweet in your dataset is:\n",
      "\"Myanmar men sentenced to death for murder of British tourists in Thailand  \"\n",
      "680240659647827969\n"
     ]
    }
   ],
   "source": [
    "#scrape user account\n",
    "import re\n",
    "import cPickle as pickle\n",
    "\n",
    "#The tweets will be saved in a pickle file carrying the name shown below, unless the code at the bottom of this document is adapted\n",
    "user = 'ReutersUK' \n",
    "\n",
    "latest_status_id = 987796177497096200 #Arbitrary high number, to make sure the latest sent tweet is below this threshold\n",
    "complete_statuses_list = []\n",
    "amount_of_tweets_desired = 3200 #this includes rts in its count. add extra on accounts that Retweet a lot.\n",
    "#Twitter allows you to request a maximum of 3200 of the latest tweets per user account and 200 per request\n",
    "for i in range(amount_of_tweets_desired/200):\n",
    "    statuses = twitter_api.statuses.user_timeline(screen_name=user, count=201, max_id= (latest_status_id-1),\n",
    "                                                  include_entities=False, include_rts=False)\n",
    "    status_ids = [status['id']\n",
    "        for status in statuses ]\n",
    "    \n",
    "    # Use \"[re.sub(....)\" if you need all links to be removed from the tweet and \"[status['text'] if not.\n",
    "    complete_statuses_list +=  [re.sub(r\"http\\S+\", \"\",status['text']) #[status['text']\n",
    "        for status in statuses]\n",
    "\n",
    "    latest_status_id = status_ids[-1]\n",
    "    print \"Scraped the %d latest tweets with an ID lower than %d\"% (len(status_ids), latest_status_id)\n",
    "print \"The length of the complete status list is %d.\" %len(complete_statuses_list)\n",
    "\n",
    "#write away the data\n",
    "f = open(\"%s.pickle\" %user, \"wb\") # Change savename\n",
    "pickle.dump(complete_statuses_list, f) \n",
    "f.close()"
   ]
  }
 ],
 "metadata": {
  "kernelspec": {
   "display_name": "Python 2",
   "language": "python",
   "name": "python2"
  },
  "language_info": {
   "codemirror_mode": {
    "name": "ipython",
    "version": 2
   },
   "file_extension": ".py",
   "mimetype": "text/x-python",
   "name": "python",
   "nbconvert_exporter": "python",
   "pygments_lexer": "ipython2",
   "version": "2.7.11"
  }
 },
 "nbformat": 4,
 "nbformat_minor": 0
}
