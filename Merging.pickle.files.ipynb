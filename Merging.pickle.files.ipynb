{
 "cells": [
  {
   "cell_type": "code",
   "execution_count": null,
   "metadata": {
    "collapsed": true
   },
   "outputs": [],
   "source": [
    "import cPickle as pickle\n",
    "# Insert names of documents that need merging below\n",
    "name_file1 = \"\"\n",
    "name_file2 = \"\"\n",
    "# Insert desired name of document below\n",
    "store_as = \"combined_file_X\"\n",
    "# Load the files and add to same variable\n",
    "file1 = pickle.load(open(\"%s.pickle\")%name_file1)\n",
    "file2 = pickle.load(open(\"%s.pickle\")%name_file2)\n",
    "\n",
    "joint_files = file1 + file2\n",
    "print len(joint_files)\n",
    "\n",
    "# Write away data\n",
    "f = open(\"%s.pickle\"%store_as, \"wb\")\n",
    "pickle.dump(joint_files, f)\n",
    "f.close()"
   ]
  }
 ],
 "metadata": {
  "kernelspec": {
   "display_name": "Python 2",
   "language": "python",
   "name": "python2"
  },
  "language_info": {
   "codemirror_mode": {
    "name": "ipython",
    "version": 2
   },
   "file_extension": ".py",
   "mimetype": "text/x-python",
   "name": "python",
   "nbconvert_exporter": "python",
   "pygments_lexer": "ipython2",
   "version": "2.7.11"
  }
 },
 "nbformat": 4,
 "nbformat_minor": 0
}
