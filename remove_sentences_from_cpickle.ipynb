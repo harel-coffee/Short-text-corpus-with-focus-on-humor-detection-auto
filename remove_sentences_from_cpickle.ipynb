{
 "cells": [
  {
   "cell_type": "code",
   "execution_count": 1,
   "metadata": {
    "collapsed": false,
    "scrolled": false
   },
   "outputs": [
    {
     "name": "stdout",
     "output_type": "stream",
     "text": [
      "File succesfully imported. The file contains 1414 sentences.\n",
      "File succesfully altered. The file contains 1260 sentences.\n"
     ]
    }
   ],
   "source": [
    "#import the sentences that need processing\n",
    "import cPickle as pickle\n",
    "from collections import OrderedDict\n",
    "\n",
    "user = 'oneliners2_processed'\n",
    "unprocessed_sentences= pickle.load(open(\"%s.pickle\"%user))\n",
    "\n",
    "#insert indices of the items that need to be removed in the variable below\n",
    "remove_items = []\n",
    "#makes sure the indices are ordered ascending\n",
    "remove_items = list(OrderedDict.fromkeys(remove_items))\n",
    "remove_compensation = 0\n",
    "print \"File succesfully imported. The file contains %d sentences.\" %len(unprocessed_sentences)\n",
    "\n",
    "for i in range(len(unprocessed_sentences)):\n",
    "    for item in remove_items:\n",
    "        if i == item:\n",
    "            del unprocessed_sentences[(i-1)- remove_compensation]\n",
    "            remove_compensation += 1\n",
    "\n",
    "#store away processed data\n",
    "'''f = open(\"removed_%s.pickle\" %user, \"wb\")\n",
    "pickle.dump(unprocessed_sentences, f) \n",
    "f.close()\n",
    "print \"File succesfully processed. The file contains %d sentences.\" %len(unprocessed_sentences)\n",
    "'''"
   ]
  }
 ],
 "metadata": {
  "kernelspec": {
   "display_name": "Python 2",
   "language": "python",
   "name": "python2"
  },
  "language_info": {
   "codemirror_mode": {
    "name": "ipython",
    "version": 2
   },
   "file_extension": ".py",
   "mimetype": "text/x-python",
   "name": "python",
   "nbconvert_exporter": "python",
   "pygments_lexer": "ipython2",
   "version": "2.7.11"
  }
 },
 "nbformat": 4,
 "nbformat_minor": 0
}
